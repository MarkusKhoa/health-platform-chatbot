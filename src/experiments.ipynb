{
 "cells": [
  {
   "cell_type": "code",
   "execution_count": 11,
   "metadata": {},
   "outputs": [],
   "source": [
    "from llama_index.core import SummaryIndex, Document, Settings, SimpleDirectoryReader\n",
    "from llama_index.core.schema import TextNode\n",
    "from llama_index.core.node_parser import TokenTextSplitter\n",
    "from llama_index.llms.openai import OpenAI\n",
    "from config import STORAGE_PATH\n",
    "\n",
    "import openai\n",
    "import os"
   ]
  },
  {
   "cell_type": "code",
   "execution_count": null,
   "metadata": {},
   "outputs": [],
   "source": [
    "docs = SimpleDirectoryReader(input_files=[\"../data/dsm-5-cac-tieu-chuan-chan-doan.docx\"],\n",
    "                                filename_as_id=True).load_data(show_progress=True, num_workers=-1)\n",
    "for object in docs[0]:\n",
    "    print(object)"
   ]
  },
  {
   "cell_type": "code",
   "execution_count": null,
   "metadata": {},
   "outputs": [],
   "source": []
  }
 ],
 "metadata": {
  "kernelspec": {
   "display_name": "venv",
   "language": "python",
   "name": "python3"
  },
  "language_info": {
   "codemirror_mode": {
    "name": "ipython",
    "version": 3
   },
   "file_extension": ".py",
   "mimetype": "text/x-python",
   "name": "python",
   "nbconvert_exporter": "python",
   "pygments_lexer": "ipython3",
   "version": "3.11.3"
  }
 },
 "nbformat": 4,
 "nbformat_minor": 2
}
